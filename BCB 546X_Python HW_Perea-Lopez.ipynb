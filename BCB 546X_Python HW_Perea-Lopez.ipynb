{
 "cells": [
  {
   "cell_type": "markdown",
   "id": "58d96683",
   "metadata": {},
   "source": [
    "# **BCB 546x: Python Assignment**\n",
    "\n",
    "##**Description**\n",
    "###This notebook documents the script needed to complete the code provided in \"sequence_translate.py\" and documentation needed to understand the code. The tasks include: (1) translating cytochrome-b sequences to amino acids for each of the 12 species of penguins, (2) computing summaries of the amino acid molecular weight and GC content of these sequences, and (3) data visualization. \n",
    "\n",
    "##**Dependencies**\n",
    "###The file(s) needed to run the script is/are: \"sequence_translate.py\", \"penguins_mass.csv\", and \"penguins_cytb.fasta\". \n",
    "###The package(s) need to run the script is/are: BioPython. \n",
    "\n",
    "##**Author**\n",
    "###Jeniffer Louise Perea-Lopez\n",
    "\n",
    "##**Date**\n",
    "###Created: Tuesday, May 2, 2023 at 1:28 PM\n",
    "###Modified: Friday, May 5, 2023 at 4:58 PM"
   ]
  },
  {
   "cell_type": "code",
   "execution_count": 211,
   "id": "e426affa",
   "metadata": {},
   "outputs": [
    {
     "name": "stdout",
     "output_type": "stream",
     "text": [
      "Requirement already satisfied: altair in /Users/jenifferperea/anaconda3/lib/python3.10/site-packages (4.2.2)\n",
      "Requirement already satisfied: vega_datasets in /Users/jenifferperea/anaconda3/lib/python3.10/site-packages (0.9.0)\n",
      "Requirement already satisfied: jsonschema>=3.0 in /Users/jenifferperea/anaconda3/lib/python3.10/site-packages (from altair) (4.17.3)\n",
      "Requirement already satisfied: toolz in /Users/jenifferperea/anaconda3/lib/python3.10/site-packages (from altair) (0.12.0)\n",
      "Requirement already satisfied: pandas>=0.18 in /Users/jenifferperea/anaconda3/lib/python3.10/site-packages (from altair) (1.5.3)\n",
      "Requirement already satisfied: entrypoints in /Users/jenifferperea/anaconda3/lib/python3.10/site-packages (from altair) (0.4)\n",
      "Requirement already satisfied: numpy in /Users/jenifferperea/anaconda3/lib/python3.10/site-packages (from altair) (1.23.5)\n",
      "Requirement already satisfied: jinja2 in /Users/jenifferperea/anaconda3/lib/python3.10/site-packages (from altair) (3.1.2)\n",
      "Requirement already satisfied: attrs>=17.4.0 in /Users/jenifferperea/anaconda3/lib/python3.10/site-packages (from jsonschema>=3.0->altair) (22.1.0)\n",
      "Requirement already satisfied: pyrsistent!=0.17.0,!=0.17.1,!=0.17.2,>=0.14.0 in /Users/jenifferperea/anaconda3/lib/python3.10/site-packages (from jsonschema>=3.0->altair) (0.18.0)\n",
      "Requirement already satisfied: python-dateutil>=2.8.1 in /Users/jenifferperea/anaconda3/lib/python3.10/site-packages (from pandas>=0.18->altair) (2.8.2)\n",
      "Requirement already satisfied: pytz>=2020.1 in /Users/jenifferperea/anaconda3/lib/python3.10/site-packages (from pandas>=0.18->altair) (2022.7)\n",
      "Requirement already satisfied: MarkupSafe>=2.0 in /Users/jenifferperea/anaconda3/lib/python3.10/site-packages (from jinja2->altair) (2.1.1)\n",
      "Requirement already satisfied: six>=1.5 in /Users/jenifferperea/anaconda3/lib/python3.10/site-packages (from python-dateutil>=2.8.1->pandas>=0.18->altair) (1.16.0)\n"
     ]
    }
   ],
   "source": [
    "#Import python and Biopython packages\n",
    "from Bio import SeqIO #import Biopython package SeqIO\n",
    "from Bio.Data import CodonTable #import Biopython package CodonTable\n",
    "from Bio import Seq #import Biopython package Seq\n",
    "from Bio.SeqUtils.ProtParam import ProteinAnalysis #import ProteinAnalysis from ProtParam module\n",
    "from Bio.SeqUtils import GC #import GC from Bio.SeqUtils module\n",
    "import pandas as pd #import pandas package\n",
    "import matplotlib.pyplot as plt #import matplotlib.pyplot package\n",
    "import seaborn as sns #import seaborn package\n",
    "import sys\n",
    "!{sys.executable} -m pip install altair vega_datasets\n",
    "import altair as alt #import altair package"
   ]
  },
  {
   "cell_type": "markdown",
   "id": "ebad24e9",
   "metadata": {},
   "source": [
    "#-- Functions --#"
   ]
  },
  {
   "cell_type": "markdown",
   "id": "13c02cbd",
   "metadata": {},
   "source": [
    "##**Function `get_sequences_from_file(fasta_fn)`**\n",
    "###**Description:** Pulls sequence data and returns species names and corresponding sequence data from FASTA file\n",
    "\n",
    "###**Arguments:**\n",
    "* `fata_fn`: where the .fasta file is placed \n",
    "\n",
    "###**Return:** Species name and sequence data for the different species found in the .fasta file\n",
    "\n",
    "###**Example of usage:**\n",
    "    >>>fasta_fn = \"example_file.fasta\"\n",
    "    >>>get_sequences_from_file(fasta_fn)\n",
    "\n",
    "###**Output:**\n",
    "    {'Species name' : Seq('ATGCATGCATGCATGCATGCATGCATGCATGC...TAA')}"
   ]
  },
  {
   "cell_type": "code",
   "execution_count": 212,
   "id": "98ef4ba9",
   "metadata": {},
   "outputs": [],
   "source": [
    "def get_sequences_from_file(fasta_fn): #define new function mentioned above\n",
    "    sequence_data_dict = {} #create an empty dictionary for sequence data\n",
    "    for record in SeqIO.parse(fasta_fn, \"fasta\"): #for loop to identify sequences within .fasta file for each record \n",
    "        description = record.description.split() #assign function to split strings to variable\n",
    "        species_name = description[1] + \" \" + description[2] #create species name from .fasta file\n",
    "        sequence_data_dict[species_name] = record.seq #assign sequence to corresponding species name\n",
    "    return(sequence_data_dict) #return dictionary"
   ]
  },
  {
   "cell_type": "code",
   "execution_count": 213,
   "id": "8b2dbeb7",
   "metadata": {},
   "outputs": [
    {
     "name": "stdout",
     "output_type": "stream",
     "text": [
      "Table 2 Vertebrate Mitochondrial, SGC1\n",
      "\n",
      "  |  T      |  C      |  A      |  G      |\n",
      "--+---------+---------+---------+---------+--\n",
      "T | TTT F   | TCT S   | TAT Y   | TGT C   | T\n",
      "T | TTC F   | TCC S   | TAC Y   | TGC C   | C\n",
      "T | TTA L   | TCA S   | TAA Stop| TGA W   | A\n",
      "T | TTG L   | TCG S   | TAG Stop| TGG W   | G\n",
      "--+---------+---------+---------+---------+--\n",
      "C | CTT L   | CCT P   | CAT H   | CGT R   | T\n",
      "C | CTC L   | CCC P   | CAC H   | CGC R   | C\n",
      "C | CTA L   | CCA P   | CAA Q   | CGA R   | A\n",
      "C | CTG L   | CCG P   | CAG Q   | CGG R   | G\n",
      "--+---------+---------+---------+---------+--\n",
      "A | ATT I(s)| ACT T   | AAT N   | AGT S   | T\n",
      "A | ATC I(s)| ACC T   | AAC N   | AGC S   | C\n",
      "A | ATA M(s)| ACA T   | AAA K   | AGA Stop| A\n",
      "A | ATG M(s)| ACG T   | AAG K   | AGG Stop| G\n",
      "--+---------+---------+---------+---------+--\n",
      "G | GTT V   | GCT A   | GAT D   | GGT G   | T\n",
      "G | GTC V   | GCC A   | GAC D   | GGC G   | C\n",
      "G | GTA V   | GCA A   | GAA E   | GGA G   | A\n",
      "G | GTG V(s)| GCG A   | GAG E   | GGG G   | G\n",
      "--+---------+---------+---------+---------+--\n"
     ]
    }
   ],
   "source": [
    "#table of genetic code found in the mitochondria of all vertebrata (e.g., penguins)\n",
    "mito_table = CodonTable.unambiguous_dna_by_name[\"Vertebrate Mitochondrial\"]\n",
    "print(mito_table)"
   ]
  },
  {
   "cell_type": "markdown",
   "id": "53f725f6",
   "metadata": {},
   "source": [
    "##**Function `translate_sequences(string_nucleotides)`**\n",
    "###**Description:** Translates a string of nucleotides to amino acids \n",
    "\n",
    "###**Arguments:**\n",
    "* `string_nucleotides`: a string of nucleotides\n",
    "\n",
    "###**Return:** A string of amino acids \n",
    "\n",
    "###**Example of usage:**\n",
    "    >>>string_nucleotides = 'CCCGGTGTCGCTGCTCTCTCCGAGAAGAAGTAA'(NOTE: TAA is a stop codon)\n",
    "    >>>translate_sequences(string_nucleotides)\n",
    "\n",
    "###**Output:**\n",
    "    'PGVAALSEKK' "
   ]
  },
  {
   "cell_type": "code",
   "execution_count": 214,
   "id": "6a9567cf",
   "metadata": {},
   "outputs": [],
   "source": [
    "def translate_sequences(string_nucleotides): #define new function mentioned above\n",
    "    mito_table = CodonTable.unambiguous_dna_by_name[\"Vertebrate Mitochondrial\"] #import codon table \n",
    "    aa_seq_string = \"\" #assign variable for amino acid sequences \n",
    "    for i in range (0, len(string_nucleotides), 3): #selects codons as multiples of 3 starting with 0\n",
    "        codon = string_nucleotides[i] + string_nucleotides[i+1] + string_nucleotides[i+2] #define codon as a set of 3 nucleotides\n",
    "        #NOTE: if the sequence has a stop codon at the end, it should be left off as it is a nonsense codon\n",
    "        if codon == \"TAA\" or codon == \"TAG\" or codon == \"AGA\" or codon == \"AGG\": #identify stop codons \n",
    "            break # #terminate current loop at stop codon and resume execution for the next sequence\n",
    "        else: #if loop did not encounter a break, statement will be executed after loop completes normally\n",
    "            aa_seq_string += mito_table.forward_table[codon] #translate codons into amino acids \n",
    "    return(aa_seq_string) #retunrn amino acid sequence "
   ]
  },
  {
   "cell_type": "code",
   "execution_count": 215,
   "id": "b9f6e93e",
   "metadata": {},
   "outputs": [
    {
     "data": {
      "text/plain": [
       "'PGVAALSEKK'"
      ]
     },
     "execution_count": 215,
     "metadata": {},
     "output_type": "execute_result"
    }
   ],
   "source": [
    "#Run example of usage\n",
    "string_nucleotides = 'CCCGGTGTCGCTGCTCTCTCCGAGAAGAAGTAA'\n",
    "translate_sequences(string_nucleotides)"
   ]
  },
  {
   "cell_type": "markdown",
   "id": "71a464f3",
   "metadata": {},
   "source": [
    "##**Function `alt_translate_sequences(string_nucleotides)`**\n",
    "###**Description:** Alternative method to translates a string of nucleotides to amino acids by converting nucelotide sequence to a string of amino acids\n",
    "\n",
    "###**Arguments:**\n",
    "* `string_nucleotides`: a string of nucleotides\n",
    "\n",
    "###**Return:** A string of amino acids \n",
    "\n",
    "###**Example of usage:**\n",
    "    >>>string_nucleotides = 'CCCGGTGTCGCTGCTCTCTCCGAGAAGAAGTAA'NOTE: TAA is a stop codon\n",
    "    >>>alt_translate_sequences(string_nucleotides)\n",
    "\n",
    "###**Output:**\n",
    "    'PGVAALSEKK' \n",
    "\n",
    "###**Reference:** https://biopython.org/wiki/Seq"
   ]
  },
  {
   "cell_type": "code",
   "execution_count": 216,
   "id": "b92bd4e4",
   "metadata": {},
   "outputs": [],
   "source": [
    "def alt_translate_sequences(string_nucleotides): #define new function mentioned above\n",
    "    mito_table = CodonTable.unambiguous_dna_by_name[\"Vertebrate Mitochondrial\"] #import codon table \n",
    "    aa_seq_string = str(Seq.translate(string_nucleotides, mito_table)) [:-1] #converts nucleotide sequence, \n",
    "    #except the last element associated with the stop codon, to string of amino acids\n",
    "    return(aa_seq_string)"
   ]
  },
  {
   "cell_type": "code",
   "execution_count": 217,
   "id": "2d462fdd",
   "metadata": {},
   "outputs": [
    {
     "data": {
      "text/plain": [
       "'PGVAALSEKK'"
      ]
     },
     "execution_count": 217,
     "metadata": {},
     "output_type": "execute_result"
    }
   ],
   "source": [
    "#Run example of usage\n",
    "string_nucleotides = 'CCCGGTGTCGCTGCTCTCTCCGAGAAGAAGTAA'\n",
    "alt_translate_sequences(string_nucleotides)"
   ]
  },
  {
   "cell_type": "markdown",
   "id": "ed9d6533",
   "metadata": {},
   "source": [
    "##**Function `compute_molecular_weight(aa_seq)`**\n",
    "###**Description:** Calculate the molecular weight of an amino acid sequence\n",
    "\n",
    "###**Arguments:**\n",
    "* `aa_seq`: a string of amino acids\n",
    "\n",
    "###**Return:** molecular weight\n",
    "\n",
    "###**Example of usage:**\n",
    "    >>>aa_seq = 'PGVAALSEKK'\n",
    "    >>>compute_molecular_weight(aa_seq)\n",
    "\n",
    "###**Output:**\n",
    "    999.1621\n",
    "    \n",
    "###**Reference:*** http://biopython.org/wiki/ProtParam"
   ]
  },
  {
   "cell_type": "code",
   "execution_count": 218,
   "id": "5b711c23",
   "metadata": {},
   "outputs": [],
   "source": [
    "def compute_molecular_weight(aa_seq): #define new function mentioned above\n",
    "    analysed_seq = ProteinAnalysis(aa_seq) #convert string of amino acids to a sequence object using ProteinAnalysis\n",
    "    return(analysed_seq.molecular_weight()) #compute the molecular weight from an amino acid sequence"
   ]
  },
  {
   "cell_type": "code",
   "execution_count": 219,
   "id": "a3bab9fe",
   "metadata": {},
   "outputs": [
    {
     "data": {
      "text/plain": [
       "999.1621"
      ]
     },
     "execution_count": 219,
     "metadata": {},
     "output_type": "execute_result"
    }
   ],
   "source": [
    "#Run example of usage \n",
    "aa_seq = 'PGVAALSEKK'\n",
    "compute_molecular_weight(aa_seq)"
   ]
  },
  {
   "cell_type": "markdown",
   "id": "e64be645",
   "metadata": {},
   "source": [
    "##**Function `compute_GC_content(string_nucleotides)`**\n",
    "###**Description:** Calculate the GC content (proportion of \"G\" and \"C\") of a DNA sequence\n",
    "\n",
    "###**Arguments:**\n",
    "* `string_nucleotides`: a string of nucleotides\n",
    "\n",
    "###**Return:** percent GC content \n",
    "\n",
    "###**Example of usage:**\n",
    "    >>>string_nucleotides = 'CCCGGTGTCGCTGCTCTCTCCGAGAAGAAGTAA'\n",
    "    >>>compute_GC_content(string_nucleotides)\n",
    "\n",
    "###**Output:**\n",
    "    57.57575757575758\n",
    "    \n",
    "###**Reference:** https://biopython.org/docs/1.75/api/Bio.SeqUtils.html#Bio.SeqUtils.GC"
   ]
  },
  {
   "cell_type": "code",
   "execution_count": 220,
   "id": "9692c138",
   "metadata": {},
   "outputs": [],
   "source": [
    "def compute_GC_content(string_nucleotides): #define new function mentioned above\n",
    "    GC_content = GC(string_nucleotides) #calculate G+C content from string of nucleotides\n",
    "    return(GC_content) #return GC content as %GC calculated against the full length"
   ]
  },
  {
   "cell_type": "code",
   "execution_count": 221,
   "id": "6e788ec8",
   "metadata": {},
   "outputs": [
    {
     "data": {
      "text/plain": [
       "57.57575757575758"
      ]
     },
     "execution_count": 221,
     "metadata": {},
     "output_type": "execute_result"
    }
   ],
   "source": [
    "#Run example of usage\n",
    "string_nucleotides = 'CCCGGTGTCGCTGCTCTCTCCGAGAAGAAGTAA'\n",
    "compute_GC_content(string_nucleotides)"
   ]
  },
  {
   "cell_type": "markdown",
   "id": "87104df2",
   "metadata": {},
   "source": [
    "#-- In the MAIN part of the script --#"
   ]
  },
  {
   "cell_type": "code",
   "execution_count": 222,
   "id": "2f09df4a",
   "metadata": {},
   "outputs": [],
   "source": [
    "cytb_seqs = get_sequences_from_file(\"penguins_cytb.fasta\") #pull sequence data from FASTA file and assign them to a dictionary \n",
    "penguins_df = pd.read_csv(\"penguins_mass.csv\") #read .csv file into DataFrame, includes only data for body mass \n",
    "species_list = list(penguins_df.species) #creates a list of penguin species from DataFrame"
   ]
  },
  {
   "cell_type": "code",
   "execution_count": 223,
   "id": "a08938c6",
   "metadata": {
    "scrolled": true
   },
   "outputs": [
    {
     "name": "stdout",
     "output_type": "stream",
     "text": [
      "                    species   mass molecular_weight GC_content\n",
      "0      Aptenodytes forsteri  28.00              NaN        NaN\n",
      "1   Aptenodytes patagonicus  13.40              NaN        NaN\n",
      "2       Eudyptes chrysocome   2.80              NaN        NaN\n",
      "3     Eudyptes chrysolophus   4.50              NaN        NaN\n",
      "4         Eudyptes sclateri   4.25              NaN        NaN\n",
      "5           Eudyptula minor   1.60              NaN        NaN\n",
      "6        Pygoscelis adeliae   4.60              NaN        NaN\n",
      "7     Pygoscelis antarctica   4.10              NaN        NaN\n",
      "8          Pygoscelis papua   6.10              NaN        NaN\n",
      "9       Spheniscus demersus   3.20              NaN        NaN\n",
      "10     Spheniscus humboldti   4.75              NaN        NaN\n",
      "11  Spheniscus magellanicus   3.40              NaN        NaN\n"
     ]
    }
   ],
   "source": [
    "#Add two new columns to the penguin DataFrame: (1) molecular weight and (2) GC content \n",
    "#Set the value to 'NaN' to indicate that these cells are currently empty\n",
    "penguins_df['molecular_weight'] = 'NaN'\n",
    "penguins_df['GC_content'] = 'NaN'\n",
    "print(penguins_df)"
   ]
  },
  {
   "cell_type": "code",
   "execution_count": 224,
   "id": "907e411f",
   "metadata": {},
   "outputs": [
    {
     "name": "stdout",
     "output_type": "stream",
     "text": [
      "                    species   mass molecular_weight GC_content\n",
      "0      Aptenodytes forsteri  28.00       42459.6021  48.381452\n",
      "1   Aptenodytes patagonicus  13.40       42563.7067  49.693788\n",
      "2       Eudyptes chrysocome   2.80       42475.5753  51.181102\n",
      "3     Eudyptes chrysolophus   4.50       42445.5493  50.918635\n",
      "4         Eudyptes sclateri   4.25       42475.5753  50.831146\n",
      "5           Eudyptula minor   1.60       42491.6408  49.256343\n",
      "6        Pygoscelis adeliae   4.60        42458.614  49.081365\n",
      "7     Pygoscelis antarctica   4.10       42404.5423  47.769029\n",
      "8          Pygoscelis papua   6.10       42595.8759  47.156605\n",
      "9       Spheniscus demersus   3.20        42431.549  48.293963\n",
      "10     Spheniscus humboldti   4.75        42399.552  49.256343\n",
      "11  Spheniscus magellanicus   3.40       42459.6021  48.206474\n"
     ]
    }
   ],
   "source": [
    "#Write a for-loop that translates each sequence and also gets molecular weight and computes the GC content\n",
    "#of each translated sequence and adds those data to DataFrame\n",
    "row = 0 #define row as the first row '0'\n",
    "for key, value in cytb_seqs.items(): \n",
    "    aa_seq = translate_sequences(value) #translate penguin DNA sequence to amino acid sequence\n",
    "    molecular_weight = compute_molecular_weight(aa_seq) #compute MW of amino acid sequence\n",
    "    penguins_df.loc[row, 'molecular_weight'] = molecular_weight #add MW to DataFrame\n",
    "    GC_content = compute_GC_content(value) #compute %GC of DNA sequence \n",
    "    penguins_df.loc[row, 'GC_content'] = GC_content #add GC content to DataFrame\n",
    "    row = row + 1 #define row for looping through rows in DataFrame\n",
    "print(penguins_df)"
   ]
  },
  {
   "cell_type": "code",
   "execution_count": 225,
   "id": "8a947cac",
   "metadata": {},
   "outputs": [
    {
     "data": {
      "text/html": [
       "\n",
       "<div id=\"altair-viz-2af930579e234fd087240c45ea4a57e0\"></div>\n",
       "<script type=\"text/javascript\">\n",
       "  var VEGA_DEBUG = (typeof VEGA_DEBUG == \"undefined\") ? {} : VEGA_DEBUG;\n",
       "  (function(spec, embedOpt){\n",
       "    let outputDiv = document.currentScript.previousElementSibling;\n",
       "    if (outputDiv.id !== \"altair-viz-2af930579e234fd087240c45ea4a57e0\") {\n",
       "      outputDiv = document.getElementById(\"altair-viz-2af930579e234fd087240c45ea4a57e0\");\n",
       "    }\n",
       "    const paths = {\n",
       "      \"vega\": \"https://cdn.jsdelivr.net/npm//vega@5?noext\",\n",
       "      \"vega-lib\": \"https://cdn.jsdelivr.net/npm//vega-lib?noext\",\n",
       "      \"vega-lite\": \"https://cdn.jsdelivr.net/npm//vega-lite@4.17.0?noext\",\n",
       "      \"vega-embed\": \"https://cdn.jsdelivr.net/npm//vega-embed@6?noext\",\n",
       "    };\n",
       "\n",
       "    function maybeLoadScript(lib, version) {\n",
       "      var key = `${lib.replace(\"-\", \"\")}_version`;\n",
       "      return (VEGA_DEBUG[key] == version) ?\n",
       "        Promise.resolve(paths[lib]) :\n",
       "        new Promise(function(resolve, reject) {\n",
       "          var s = document.createElement('script');\n",
       "          document.getElementsByTagName(\"head\")[0].appendChild(s);\n",
       "          s.async = true;\n",
       "          s.onload = () => {\n",
       "            VEGA_DEBUG[key] = version;\n",
       "            return resolve(paths[lib]);\n",
       "          };\n",
       "          s.onerror = () => reject(`Error loading script: ${paths[lib]}`);\n",
       "          s.src = paths[lib];\n",
       "        });\n",
       "    }\n",
       "\n",
       "    function showError(err) {\n",
       "      outputDiv.innerHTML = `<div class=\"error\" style=\"color:red;\">${err}</div>`;\n",
       "      throw err;\n",
       "    }\n",
       "\n",
       "    function displayChart(vegaEmbed) {\n",
       "      vegaEmbed(outputDiv, spec, embedOpt)\n",
       "        .catch(err => showError(`Javascript Error: ${err.message}<br>This usually means there's a typo in your chart specification. See the javascript console for the full traceback.`));\n",
       "    }\n",
       "\n",
       "    if(typeof define === \"function\" && define.amd) {\n",
       "      requirejs.config({paths});\n",
       "      require([\"vega-embed\"], displayChart, err => showError(`Error loading script: ${err.message}`));\n",
       "    } else {\n",
       "      maybeLoadScript(\"vega\", \"5\")\n",
       "        .then(() => maybeLoadScript(\"vega-lite\", \"4.17.0\"))\n",
       "        .then(() => maybeLoadScript(\"vega-embed\", \"6\"))\n",
       "        .catch(showError)\n",
       "        .then(() => displayChart(vegaEmbed));\n",
       "    }\n",
       "  })({\"config\": {\"view\": {\"continuousWidth\": 400, \"continuousHeight\": 300}, \"axis\": {\"labelFontSize\": 16, \"titleFontSize\": 16}, \"title\": {\"fontSize\": 16}}, \"data\": {\"name\": \"data-a86c60234ff96482fa4ffcd7d51c9e3f\"}, \"mark\": \"bar\", \"encoding\": {\"color\": {\"condition\": {\"value\": \"#FF6600\", \"test\": \"(datum.species === 'Eudyptula minor')\"}, \"value\": \"#0066cc\"}, \"x\": {\"field\": \"species\", \"type\": \"ordinal\"}, \"y\": {\"field\": \"mass\", \"type\": \"quantitative\"}}, \"title\": \"Mass of Penguin Species\", \"width\": 600, \"$schema\": \"https://vega.github.io/schema/vega-lite/v4.17.0.json\", \"datasets\": {\"data-a86c60234ff96482fa4ffcd7d51c9e3f\": [{\"species\": \"Aptenodytes forsteri\", \"mass\": 28.0, \"molecular_weight\": 42459.602100000004, \"GC_content\": 48.38145231846019}, {\"species\": \"Aptenodytes patagonicus\", \"mass\": 13.4, \"molecular_weight\": 42563.70669999999, \"GC_content\": 49.69378827646544}, {\"species\": \"Eudyptes chrysocome\", \"mass\": 2.8, \"molecular_weight\": 42475.5753, \"GC_content\": 51.181102362204726}, {\"species\": \"Eudyptes chrysolophus\", \"mass\": 4.5, \"molecular_weight\": 42445.54929999999, \"GC_content\": 50.91863517060367}, {\"species\": \"Eudyptes sclateri\", \"mass\": 4.25, \"molecular_weight\": 42475.5753, \"GC_content\": 50.83114610673666}, {\"species\": \"Eudyptula minor\", \"mass\": 1.6, \"molecular_weight\": 42491.64080000001, \"GC_content\": 49.25634295713036}, {\"species\": \"Pygoscelis adeliae\", \"mass\": 4.6, \"molecular_weight\": 42458.61400000001, \"GC_content\": 49.08136482939633}, {\"species\": \"Pygoscelis antarctica\", \"mass\": 4.1, \"molecular_weight\": 42404.54230000001, \"GC_content\": 47.76902887139108}, {\"species\": \"Pygoscelis papua\", \"mass\": 6.1, \"molecular_weight\": 42595.87590000001, \"GC_content\": 47.15660542432196}, {\"species\": \"Spheniscus demersus\", \"mass\": 3.2, \"molecular_weight\": 42431.54900000002, \"GC_content\": 48.29396325459317}, {\"species\": \"Spheniscus humboldti\", \"mass\": 4.75, \"molecular_weight\": 42399.55200000001, \"GC_content\": 49.25634295713036}, {\"species\": \"Spheniscus magellanicus\", \"mass\": 3.4, \"molecular_weight\": 42459.60210000002, \"GC_content\": 48.20647419072616}]}}, {\"mode\": \"vega-lite\"});\n",
       "</script>"
      ],
      "text/plain": [
       "alt.Chart(...)"
      ]
     },
     "execution_count": 225,
     "metadata": {},
     "output_type": "execute_result"
    }
   ],
   "source": [
    "#Plot a bar-chart of the mass with the x-axes labeled with species names\n",
    "alt.Chart(penguins_df, title = \"Mass of Penguin Species\").mark_bar().encode(\n",
    "    x='species:O',\n",
    "    y=\"mass:Q\",\n",
    "    #highlight smallest penguin species\n",
    "    color=alt.condition(\n",
    "        alt.datum.species == 'Eudyptula minor',  #If the species is \"Eudyptula minor\" this test returns True,\n",
    "        alt.value('#FF6600'),     #highlight a bar with orange (#FF6600)\n",
    "        alt.value('#0066cc')   #And blue (#0066cc) for the rest of the bars\n",
    "     )\n",
    ").properties(width=600).configure_axis(\n",
    "    labelFontSize=16,\n",
    "    titleFontSize=16\n",
    ").configure_title(fontSize=16)"
   ]
  },
  {
   "cell_type": "markdown",
   "id": "6fa94318",
   "metadata": {},
   "source": [
    "###**Q1. What is the smallest penguin species?**\n",
    "###*Eudyptula minor*\n",
    "\n",
    "###**Q2. What is the geographical range of this species?**\n",
    "###Found in the coastal waters of southern mainland Australia and Tasmania (https://australian.museum/learn/animals/birds/little-penguin-eudyptula-minor/)"
   ]
  },
  {
   "cell_type": "code",
   "execution_count": 226,
   "id": "73b586a2",
   "metadata": {},
   "outputs": [
    {
     "data": {
      "text/plain": [
       "<matplotlib.legend.Legend at 0x7feb18ec2f50>"
      ]
     },
     "execution_count": 226,
     "metadata": {},
     "output_type": "execute_result"
    },
    {
     "data": {
      "image/png": "[encoded data removed]",
      "text/plain": [
       "<Figure size 640x480 with 1 Axes>"
      ]
     },
     "metadata": {},
     "output_type": "display_data"
    }
   ],
   "source": [
    "#Plot a visualization of the molecular weight (y-axis) as a function of GC-content (x-axis)\n",
    "sns.scatterplot(x = \"GC_content\", y = \"molecular_weight\", data = penguins_df, s = 100, hue = \"species\")\n",
    "plt.xlabel(\"GC content\")\n",
    "plt.ylabel(\"Molecular Weight\")\n",
    "plt.title(\"GC-content vs. Molecular Weight in Penguin Species\")\n",
    "plt.legend(bbox_to_anchor=(1.01, 1),\n",
    "           borderaxespad=0)"
   ]
  },
  {
   "cell_type": "code",
   "execution_count": 227,
   "id": "0b29bb1d",
   "metadata": {},
   "outputs": [],
   "source": [
    "#Save the new DataFrame to a file called \"penguins_mass_cytb.csv\"\n",
    "penguins_df.to_csv(\"penguins_mass_cytb.csv\")"
   ]
  },
  {
   "cell_type": "markdown",
   "id": "86be4206",
   "metadata": {},
   "source": [
    "###**BONUS:What else can we do with this dataset in python?**\n",
    "####Objective: Align multiple sequences within a FASTA file\n",
    "####Reference: https://biopython.org/docs/1.76/api/Bio.Align.Applications.html"
   ]
  },
  {
   "cell_type": "code",
   "execution_count": 228,
   "id": "91568f32",
   "metadata": {},
   "outputs": [],
   "source": [
    "from Bio.Align.Applications import MuscleCommandline"
   ]
  },
  {
   "cell_type": "code",
   "execution_count": 229,
   "id": "23bc78b6",
   "metadata": {},
   "outputs": [],
   "source": [
    "def align_seqs(fasta_fn): #define new function for sequence alignment\n",
    "    seqs = SeqIO.parse(fasta_fn, 'fasta') #identify sequences in FASTA file \n",
    "    SeqIO.write(seqs, \"align_seqs.fasta\", \"fasta\") #write FASTA file with aligned sequences\n",
    "    muscle_cmdline = MuscleCommandline(input = seqs, diags = True, maxiters = 1, \n",
    "                                       out = \"align_seqs.fasta\")\n",
    "    #use multiple alignment program MUSCLE to align sequences and output FASTA file\n",
    "    return('Alignment Complete!') #output message"
   ]
  },
  {
   "cell_type": "code",
   "execution_count": 230,
   "id": "afc3ffa4",
   "metadata": {
    "scrolled": true
   },
   "outputs": [
    {
     "data": {
      "text/plain": [
       "'Alignment Complete!'"
      ]
     },
     "execution_count": 230,
     "metadata": {},
     "output_type": "execute_result"
    }
   ],
   "source": [
    "fasta_fn = \"penguins_cytb.fasta\"\n",
    "align_seqs(fasta_fn)"
   ]
  }
 ],
 "metadata": {
  "kernelspec": {
   "display_name": "Python 3 (ipykernel)",
   "language": "python",
   "name": "python3"
  },
  "language_info": {
   "codemirror_mode": {
    "name": "ipython",
    "version": 3
   },
   "file_extension": ".py",
   "mimetype": "text/x-python",
   "name": "python",
   "nbconvert_exporter": "python",
   "pygments_lexer": "ipython3",
   "version": "3.10.9"
  }
 },
 "nbformat": 4,
 "nbformat_minor": 5
}
