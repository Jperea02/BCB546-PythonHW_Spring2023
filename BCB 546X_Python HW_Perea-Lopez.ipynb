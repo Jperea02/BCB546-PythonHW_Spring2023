{
 "cells": [
  {
   "cell_type": "markdown",
   "id": "58d96683",
   "metadata": {},
   "source": [
    "# **BCB 546x: Python Assignment**\n",
    "\n",
    "##**Description**\n",
    "###This notebook documents the script needed to complete the code provided in \"sequence_translate.py\" and documentation needed to understand the code. The tasks include: (1) translating cytochrome-b sequences to amino acids for each of the 12 species of penguins, (2) computing summaries of the amino acid molecular weight and GC content of these sequences, and (3) data visualization. \n",
    "\n",
    "##**Dependencies**\n",
    "###The file(s) needed to run the script is/are: \"sequence_translate.py\", \"penguins_mass.csv\", and \"penguins_cytb.fasta\". \n",
    "###The package(s) need to run the script is/are: BioPython, pandas, dash, dash_bio, altair\n",
    "\n",
    "##**Author**\n",
    "###Jeniffer Louise Perea-Lopez\n",
    "\n",
    "##**Date**\n",
    "###Created: Tuesday, May 2, 2023 at 1:28 PM\n",
    "###Modified: Friday, May 5, 2023 at 10:34 PM"
   ]
  },
  {
   "cell_type": "code",
   "execution_count": 3,
   "id": "dbf927ac",
   "metadata": {},
   "outputs": [
    {
     "name": "stdout",
     "output_type": "stream",
     "text": [
      "Requirement already satisfied: biopython in /Users/jenifferperea/anaconda3/lib/python3.10/site-packages (1.78)\n",
      "Requirement already satisfied: numpy in /Users/jenifferperea/anaconda3/lib/python3.10/site-packages (from biopython) (1.23.5)\n",
      "Note: you may need to restart the kernel to use updated packages.\n",
      "Requirement already satisfied: dash in /Users/jenifferperea/anaconda3/lib/python3.10/site-packages (2.9.3)\n",
      "Requirement already satisfied: dash-core-components==2.0.0 in /Users/jenifferperea/anaconda3/lib/python3.10/site-packages (from dash) (2.0.0)\n",
      "Requirement already satisfied: dash-html-components==2.0.0 in /Users/jenifferperea/anaconda3/lib/python3.10/site-packages (from dash) (2.0.0)\n",
      "Requirement already satisfied: Flask>=1.0.4 in /Users/jenifferperea/anaconda3/lib/python3.10/site-packages (from dash) (2.2.2)\n",
      "Requirement already satisfied: plotly>=5.0.0 in /Users/jenifferperea/anaconda3/lib/python3.10/site-packages (from dash) (5.9.0)\n",
      "Requirement already satisfied: dash-table==5.0.0 in /Users/jenifferperea/anaconda3/lib/python3.10/site-packages (from dash) (5.0.0)\n",
      "Requirement already satisfied: Jinja2>=3.0 in /Users/jenifferperea/anaconda3/lib/python3.10/site-packages (from Flask>=1.0.4->dash) (3.1.2)\n",
      "Requirement already satisfied: click>=8.0 in /Users/jenifferperea/anaconda3/lib/python3.10/site-packages (from Flask>=1.0.4->dash) (8.0.4)\n",
      "Requirement already satisfied: Werkzeug>=2.2.2 in /Users/jenifferperea/anaconda3/lib/python3.10/site-packages (from Flask>=1.0.4->dash) (2.2.2)\n",
      "Requirement already satisfied: itsdangerous>=2.0 in /Users/jenifferperea/anaconda3/lib/python3.10/site-packages (from Flask>=1.0.4->dash) (2.0.1)\n",
      "Requirement already satisfied: tenacity>=6.2.0 in /Users/jenifferperea/anaconda3/lib/python3.10/site-packages (from plotly>=5.0.0->dash) (8.0.1)\n",
      "Requirement already satisfied: MarkupSafe>=2.0 in /Users/jenifferperea/anaconda3/lib/python3.10/site-packages (from Jinja2>=3.0->Flask>=1.0.4->dash) (2.1.1)\n",
      "Note: you may need to restart the kernel to use updated packages.\n",
      "Requirement already satisfied: dash-bio in /Users/jenifferperea/anaconda3/lib/python3.10/site-packages (1.0.2)\n",
      "Requirement already satisfied: parmed in /Users/jenifferperea/anaconda3/lib/python3.10/site-packages (from dash-bio) (4.1.0)\n",
      "Requirement already satisfied: colour in /Users/jenifferperea/anaconda3/lib/python3.10/site-packages (from dash-bio) (0.1.5)\n",
      "Requirement already satisfied: scikit-learn>=0.20.1 in /Users/jenifferperea/anaconda3/lib/python3.10/site-packages (from dash-bio) (1.2.1)\n",
      "Requirement already satisfied: GEOparse>=1.1.0 in /Users/jenifferperea/anaconda3/lib/python3.10/site-packages (from dash-bio) (2.0.3)\n",
      "Requirement already satisfied: pandas in /Users/jenifferperea/anaconda3/lib/python3.10/site-packages (from dash-bio) (1.5.3)\n",
      "Requirement already satisfied: dash>=1.6.1 in /Users/jenifferperea/anaconda3/lib/python3.10/site-packages (from dash-bio) (2.9.3)\n",
      "Requirement already satisfied: requests in /Users/jenifferperea/anaconda3/lib/python3.10/site-packages (from dash-bio) (2.28.1)\n",
      "Requirement already satisfied: scipy in /Users/jenifferperea/anaconda3/lib/python3.10/site-packages (from dash-bio) (1.10.0)\n",
      "Requirement already satisfied: periodictable in /Users/jenifferperea/anaconda3/lib/python3.10/site-packages (from dash-bio) (1.6.1)\n",
      "Requirement already satisfied: jsonschema in /Users/jenifferperea/anaconda3/lib/python3.10/site-packages (from dash-bio) (4.17.3)\n",
      "Requirement already satisfied: biopython>=1.77 in /Users/jenifferperea/anaconda3/lib/python3.10/site-packages (from dash-bio) (1.78)\n",
      "Requirement already satisfied: numpy in /Users/jenifferperea/anaconda3/lib/python3.10/site-packages (from biopython>=1.77->dash-bio) (1.23.5)\n",
      "Requirement already satisfied: Flask>=1.0.4 in /Users/jenifferperea/anaconda3/lib/python3.10/site-packages (from dash>=1.6.1->dash-bio) (2.2.2)\n",
      "Requirement already satisfied: dash-html-components==2.0.0 in /Users/jenifferperea/anaconda3/lib/python3.10/site-packages (from dash>=1.6.1->dash-bio) (2.0.0)\n",
      "Requirement already satisfied: dash-table==5.0.0 in /Users/jenifferperea/anaconda3/lib/python3.10/site-packages (from dash>=1.6.1->dash-bio) (5.0.0)\n",
      "Requirement already satisfied: plotly>=5.0.0 in /Users/jenifferperea/anaconda3/lib/python3.10/site-packages (from dash>=1.6.1->dash-bio) (5.9.0)\n",
      "Requirement already satisfied: dash-core-components==2.0.0 in /Users/jenifferperea/anaconda3/lib/python3.10/site-packages (from dash>=1.6.1->dash-bio) (2.0.0)\n",
      "Requirement already satisfied: tqdm>=4.31.1 in /Users/jenifferperea/anaconda3/lib/python3.10/site-packages (from GEOparse>=1.1.0->dash-bio) (4.64.1)\n",
      "Requirement already satisfied: python-dateutil>=2.8.1 in /Users/jenifferperea/anaconda3/lib/python3.10/site-packages (from pandas->dash-bio) (2.8.2)\n",
      "Requirement already satisfied: pytz>=2020.1 in /Users/jenifferperea/anaconda3/lib/python3.10/site-packages (from pandas->dash-bio) (2022.7)\n",
      "Requirement already satisfied: certifi>=2017.4.17 in /Users/jenifferperea/anaconda3/lib/python3.10/site-packages (from requests->dash-bio) (2022.12.7)\n",
      "Requirement already satisfied: charset-normalizer<3,>=2 in /Users/jenifferperea/anaconda3/lib/python3.10/site-packages (from requests->dash-bio) (2.0.4)\n",
      "Requirement already satisfied: urllib3<1.27,>=1.21.1 in /Users/jenifferperea/anaconda3/lib/python3.10/site-packages (from requests->dash-bio) (1.26.14)\n",
      "Requirement already satisfied: idna<4,>=2.5 in /Users/jenifferperea/anaconda3/lib/python3.10/site-packages (from requests->dash-bio) (3.4)\n",
      "Requirement already satisfied: threadpoolctl>=2.0.0 in /Users/jenifferperea/anaconda3/lib/python3.10/site-packages (from scikit-learn>=0.20.1->dash-bio) (2.2.0)\n",
      "Requirement already satisfied: joblib>=1.1.1 in /Users/jenifferperea/anaconda3/lib/python3.10/site-packages (from scikit-learn>=0.20.1->dash-bio) (1.1.1)\n",
      "Requirement already satisfied: attrs>=17.4.0 in /Users/jenifferperea/anaconda3/lib/python3.10/site-packages (from jsonschema->dash-bio) (22.1.0)\n",
      "Requirement already satisfied: pyrsistent!=0.17.0,!=0.17.1,!=0.17.2,>=0.14.0 in /Users/jenifferperea/anaconda3/lib/python3.10/site-packages (from jsonschema->dash-bio) (0.18.0)\n",
      "Requirement already satisfied: pyparsing in /Users/jenifferperea/anaconda3/lib/python3.10/site-packages (from periodictable->dash-bio) (3.0.9)\n",
      "Requirement already satisfied: Werkzeug>=2.2.2 in /Users/jenifferperea/anaconda3/lib/python3.10/site-packages (from Flask>=1.0.4->dash>=1.6.1->dash-bio) (2.2.2)\n",
      "Requirement already satisfied: click>=8.0 in /Users/jenifferperea/anaconda3/lib/python3.10/site-packages (from Flask>=1.0.4->dash>=1.6.1->dash-bio) (8.0.4)\n",
      "Requirement already satisfied: itsdangerous>=2.0 in /Users/jenifferperea/anaconda3/lib/python3.10/site-packages (from Flask>=1.0.4->dash>=1.6.1->dash-bio) (2.0.1)\n",
      "Requirement already satisfied: Jinja2>=3.0 in /Users/jenifferperea/anaconda3/lib/python3.10/site-packages (from Flask>=1.0.4->dash>=1.6.1->dash-bio) (3.1.2)\n",
      "Requirement already satisfied: tenacity>=6.2.0 in /Users/jenifferperea/anaconda3/lib/python3.10/site-packages (from plotly>=5.0.0->dash>=1.6.1->dash-bio) (8.0.1)\n",
      "Requirement already satisfied: six>=1.5 in /Users/jenifferperea/anaconda3/lib/python3.10/site-packages (from python-dateutil>=2.8.1->pandas->dash-bio) (1.16.0)\n",
      "Requirement already satisfied: MarkupSafe>=2.0 in /Users/jenifferperea/anaconda3/lib/python3.10/site-packages (from Jinja2>=3.0->Flask>=1.0.4->dash>=1.6.1->dash-bio) (2.1.1)\n",
      "Note: you may need to restart the kernel to use updated packages.\n",
      "Requirement already satisfied: altair in /Users/jenifferperea/anaconda3/lib/python3.10/site-packages (4.2.2)\n",
      "Requirement already satisfied: vega_datasets in /Users/jenifferperea/anaconda3/lib/python3.10/site-packages (0.9.0)\n",
      "Requirement already satisfied: toolz in /Users/jenifferperea/anaconda3/lib/python3.10/site-packages (from altair) (0.12.0)\n",
      "Requirement already satisfied: numpy in /Users/jenifferperea/anaconda3/lib/python3.10/site-packages (from altair) (1.23.5)\n",
      "Requirement already satisfied: jsonschema>=3.0 in /Users/jenifferperea/anaconda3/lib/python3.10/site-packages (from altair) (4.17.3)\n",
      "Requirement already satisfied: pandas>=0.18 in /Users/jenifferperea/anaconda3/lib/python3.10/site-packages (from altair) (1.5.3)\n",
      "Requirement already satisfied: entrypoints in /Users/jenifferperea/anaconda3/lib/python3.10/site-packages (from altair) (0.4)\n",
      "Requirement already satisfied: jinja2 in /Users/jenifferperea/anaconda3/lib/python3.10/site-packages (from altair) (3.1.2)\n"
     ]
    },
    {
     "name": "stdout",
     "output_type": "stream",
     "text": [
      "Requirement already satisfied: attrs>=17.4.0 in /Users/jenifferperea/anaconda3/lib/python3.10/site-packages (from jsonschema>=3.0->altair) (22.1.0)\n",
      "Requirement already satisfied: pyrsistent!=0.17.0,!=0.17.1,!=0.17.2,>=0.14.0 in /Users/jenifferperea/anaconda3/lib/python3.10/site-packages (from jsonschema>=3.0->altair) (0.18.0)\n",
      "Requirement already satisfied: python-dateutil>=2.8.1 in /Users/jenifferperea/anaconda3/lib/python3.10/site-packages (from pandas>=0.18->altair) (2.8.2)\n",
      "Requirement already satisfied: pytz>=2020.1 in /Users/jenifferperea/anaconda3/lib/python3.10/site-packages (from pandas>=0.18->altair) (2022.7)\n",
      "Requirement already satisfied: MarkupSafe>=2.0 in /Users/jenifferperea/anaconda3/lib/python3.10/site-packages (from jinja2->altair) (2.1.1)\n",
      "Requirement already satisfied: six>=1.5 in /Users/jenifferperea/anaconda3/lib/python3.10/site-packages (from python-dateutil>=2.8.1->pandas>=0.18->altair) (1.16.0)\n",
      "Note: you may need to restart the kernel to use updated packages.\n"
     ]
    }
   ],
   "source": [
    "#Install packages\n",
    "%pip install biopython #to install Biopython\n",
    "%pip install dash #to install Dash\n",
    "%pip install dash-bio #to install dash_bio\n",
    "%pip install altair vega_datasets #to install altair"
   ]
  },
  {
   "cell_type": "code",
   "execution_count": null,
   "id": "e426affa",
   "metadata": {},
   "outputs": [],
   "source": [
    "#Import python and Biopython packages and modules\n",
    "from Bio import SeqIO #import Biopython package SeqIO\n",
    "from Bio.Data import CodonTable #import Biopython package CodonTable\n",
    "from Bio import Seq #import Biopython package Seq\n",
    "from Bio.SeqUtils.ProtParam import ProteinAnalysis #import ProteinAnalysis from ProtParam module\n",
    "from Bio.SeqUtils import GC #import GC from Bio.SeqUtils module\n",
    "import pandas as pd #import pandas package\n",
    "import matplotlib.pyplot as plt #import matplotlib.pyplot package\n",
    "import seaborn as sns #import seaborn package\n",
    "import altair as alt #import altair package"
   ]
  },
  {
   "cell_type": "markdown",
   "id": "ebad24e9",
   "metadata": {},
   "source": [
    "#-- Functions --#"
   ]
  },
  {
   "cell_type": "markdown",
   "id": "13c02cbd",
   "metadata": {},
   "source": [
    "##**Function `get_sequences_from_file(fasta_fn)`**\n",
    "###**Description:** Pulls sequence data and returns species names and corresponding sequence data from FASTA file\n",
    "\n",
    "###**Arguments:**\n",
    "* `fata_fn`: where the .fasta file is placed \n",
    "\n",
    "###**Return:** Species name and sequence data for the different species found in the .fasta file\n",
    "\n",
    "###**Example of usage:**\n",
    "    >>>fasta_fn = \"example_file.fasta\"\n",
    "    >>>get_sequences_from_file(fasta_fn)\n",
    "\n",
    "###**Output:**\n",
    "    {'Species name' : Seq('ATGCATGCATGCATGCATGCATGCATGCATGC...TAA')}"
   ]
  },
  {
   "cell_type": "code",
   "execution_count": null,
   "id": "98ef4ba9",
   "metadata": {},
   "outputs": [],
   "source": [
    "def get_sequences_from_file(fasta_fn): #define new function mentioned above\n",
    "    sequence_data_dict = {} #create an empty dictionary for sequence data\n",
    "    for record in SeqIO.parse(fasta_fn, \"fasta\"): #for loop to identify sequences within .fasta file for each record \n",
    "        description = record.description.split() #assign function to split strings to variable\n",
    "        species_name = description[1] + \" \" + description[2] #create species name from .fasta file\n",
    "        sequence_data_dict[species_name] = record.seq #assign sequence to corresponding species name\n",
    "    return(sequence_data_dict) #return dictionary"
   ]
  },
  {
   "cell_type": "code",
   "execution_count": null,
   "id": "8b2dbeb7",
   "metadata": {},
   "outputs": [],
   "source": [
    "#table of genetic code found in the mitochondria of all vertebrata (e.g., penguins)\n",
    "mito_table = CodonTable.unambiguous_dna_by_name[\"Vertebrate Mitochondrial\"]\n",
    "print(mito_table)"
   ]
  },
  {
   "cell_type": "markdown",
   "id": "53f725f6",
   "metadata": {},
   "source": [
    "##**Function `translate_sequences(string_nucleotides)`**\n",
    "###**Description:** Translates a string of nucleotides to amino acids \n",
    "\n",
    "###**Arguments:**\n",
    "* `string_nucleotides`: a string of nucleotides\n",
    "\n",
    "###**Return:** A string of amino acids \n",
    "\n",
    "###**Example of usage:**\n",
    "    >>>string_nucleotides = 'CCCGGTGTCGCTGCTCTCTCCGAGAAGAAGTAA'(NOTE: TAA is a stop codon)\n",
    "    >>>translate_sequences(string_nucleotides)\n",
    "\n",
    "###**Output:**\n",
    "    'PGVAALSEKK' "
   ]
  },
  {
   "cell_type": "code",
   "execution_count": null,
   "id": "6a9567cf",
   "metadata": {},
   "outputs": [],
   "source": [
    "def translate_sequences(string_nucleotides): #define new function mentioned above\n",
    "    mito_table = CodonTable.unambiguous_dna_by_name[\"Vertebrate Mitochondrial\"] #import codon table \n",
    "    aa_seq_string = \"\" #assign variable for amino acid sequences \n",
    "    for i in range (0, len(string_nucleotides), 3): #selects codons as multiples of 3 starting with 0\n",
    "        codon = string_nucleotides[i] + string_nucleotides[i+1] + string_nucleotides[i+2] #define codon as a set of 3 nucleotides\n",
    "        #NOTE: if the sequence has a stop codon at the end, it should be left off as it is a nonsense codon\n",
    "        if codon == \"TAA\" or codon == \"TAG\" or codon == \"AGA\" or codon == \"AGG\": #identify stop codons \n",
    "            break # #terminate current loop at stop codon and resume execution for the next sequence\n",
    "        else: #if loop did not encounter a break, statement will be executed after loop completes normally\n",
    "            aa_seq_string += mito_table.forward_table[codon] #translate codons into amino acids \n",
    "    return(aa_seq_string) #retunrn amino acid sequence "
   ]
  },
  {
   "cell_type": "code",
   "execution_count": null,
   "id": "b9f6e93e",
   "metadata": {},
   "outputs": [],
   "source": [
    "#Run example of usage\n",
    "string_nucleotides = 'CCCGGTGTCGCTGCTCTCTCCGAGAAGAAGTAA'\n",
    "translate_sequences(string_nucleotides)"
   ]
  },
  {
   "cell_type": "markdown",
   "id": "71a464f3",
   "metadata": {},
   "source": [
    "##**Function `alt_translate_sequences(string_nucleotides)`**\n",
    "###**Description:** Alternative method to translates a string of nucleotides to amino acids by converting nucelotide sequence to a string of amino acids\n",
    "\n",
    "###**Arguments:**\n",
    "* `string_nucleotides`: a string of nucleotides\n",
    "\n",
    "###**Return:** A string of amino acids \n",
    "\n",
    "###**Example of usage:**\n",
    "    >>>string_nucleotides = 'CCCGGTGTCGCTGCTCTCTCCGAGAAGAAGTAA'NOTE: TAA is a stop codon\n",
    "    >>>alt_translate_sequences(string_nucleotides)\n",
    "\n",
    "###**Output:**\n",
    "    'PGVAALSEKK' \n",
    "\n",
    "###**Reference:** https://biopython.org/wiki/Seq"
   ]
  },
  {
   "cell_type": "code",
   "execution_count": null,
   "id": "b92bd4e4",
   "metadata": {},
   "outputs": [],
   "source": [
    "def alt_translate_sequences(string_nucleotides): #define new function mentioned above\n",
    "    mito_table = CodonTable.unambiguous_dna_by_name[\"Vertebrate Mitochondrial\"] #import codon table \n",
    "    aa_seq_string = str(Seq.translate(string_nucleotides, mito_table)) [:-1] #converts nucleotide sequence, \n",
    "    #except the last element associated with the stop codon, to string of amino acids\n",
    "    return(aa_seq_string)"
   ]
  },
  {
   "cell_type": "code",
   "execution_count": null,
   "id": "2d462fdd",
   "metadata": {},
   "outputs": [],
   "source": [
    "#Run example of usage\n",
    "string_nucleotides = 'CCCGGTGTCGCTGCTCTCTCCGAGAAGAAGTAA'\n",
    "alt_translate_sequences(string_nucleotides)"
   ]
  },
  {
   "cell_type": "markdown",
   "id": "ed9d6533",
   "metadata": {},
   "source": [
    "##**Function `compute_molecular_weight(aa_seq)`**\n",
    "###**Description:** Calculate the molecular weight of an amino acid sequence\n",
    "\n",
    "###**Arguments:**\n",
    "* `aa_seq`: a string of amino acids\n",
    "\n",
    "###**Return:** molecular weight\n",
    "\n",
    "###**Example of usage:**\n",
    "    >>>aa_seq = 'PGVAALSEKK'\n",
    "    >>>compute_molecular_weight(aa_seq)\n",
    "\n",
    "###**Output:**\n",
    "    999.1621\n",
    "    \n",
    "###**Reference:*** http://biopython.org/wiki/ProtParam"
   ]
  },
  {
   "cell_type": "code",
   "execution_count": null,
   "id": "5b711c23",
   "metadata": {},
   "outputs": [],
   "source": [
    "def compute_molecular_weight(aa_seq): #define new function mentioned above\n",
    "    analysed_seq = ProteinAnalysis(aa_seq) #convert string of amino acids to a sequence object using ProteinAnalysis\n",
    "    return(analysed_seq.molecular_weight()) #compute the molecular weight from an amino acid sequence"
   ]
  },
  {
   "cell_type": "code",
   "execution_count": null,
   "id": "a3bab9fe",
   "metadata": {},
   "outputs": [],
   "source": [
    "#Run example of usage \n",
    "aa_seq = 'PGVAALSEKK'\n",
    "compute_molecular_weight(aa_seq)"
   ]
  },
  {
   "cell_type": "markdown",
   "id": "e64be645",
   "metadata": {},
   "source": [
    "##**Function `compute_GC_content(string_nucleotides)`**\n",
    "###**Description:** Calculate the GC content (proportion of \"G\" and \"C\") of a DNA sequence\n",
    "\n",
    "###**Arguments:**\n",
    "* `string_nucleotides`: a string of nucleotides\n",
    "\n",
    "###**Return:** percent GC content \n",
    "\n",
    "###**Example of usage:**\n",
    "    >>>string_nucleotides = 'CCCGGTGTCGCTGCTCTCTCCGAGAAGAAGTAA'\n",
    "    >>>compute_GC_content(string_nucleotides)\n",
    "\n",
    "###**Output:**\n",
    "    57.57575757575758\n",
    "    \n",
    "###**Reference:** https://biopython.org/docs/1.75/api/Bio.SeqUtils.html#Bio.SeqUtils.GC"
   ]
  },
  {
   "cell_type": "code",
   "execution_count": null,
   "id": "9692c138",
   "metadata": {},
   "outputs": [],
   "source": [
    "def compute_GC_content(string_nucleotides): #define new function mentioned above\n",
    "    GC_content = GC(string_nucleotides) #calculate G+C content from string of nucleotides\n",
    "    return(GC_content) #return GC content as %GC calculated against the full length"
   ]
  },
  {
   "cell_type": "code",
   "execution_count": null,
   "id": "6e788ec8",
   "metadata": {},
   "outputs": [],
   "source": [
    "#Run example of usage\n",
    "string_nucleotides = 'CCCGGTGTCGCTGCTCTCTCCGAGAAGAAGTAA'\n",
    "compute_GC_content(string_nucleotides)"
   ]
  },
  {
   "cell_type": "markdown",
   "id": "87104df2",
   "metadata": {},
   "source": [
    "#-- In the MAIN part of the script --#"
   ]
  },
  {
   "cell_type": "code",
   "execution_count": null,
   "id": "2f09df4a",
   "metadata": {},
   "outputs": [],
   "source": [
    "cytb_seqs = get_sequences_from_file(\"penguins_cytb.fasta\") #pull sequence data from FASTA file and assign them to a dictionary \n",
    "penguins_df = pd.read_csv(\"penguins_mass.csv\") #read .csv file into DataFrame, includes only data for body mass \n",
    "species_list = list(penguins_df.species) #creates a list of penguin species from DataFrame"
   ]
  },
  {
   "cell_type": "code",
   "execution_count": null,
   "id": "a08938c6",
   "metadata": {
    "scrolled": true
   },
   "outputs": [],
   "source": [
    "#Add two new columns to the penguin DataFrame: (1) molecular weight and (2) GC content \n",
    "#Set the value to 'NaN' to indicate that these cells are currently empty\n",
    "penguins_df['molecular_weight'] = 'NaN'\n",
    "penguins_df['GC_content'] = 'NaN'\n",
    "print(penguins_df)"
   ]
  },
  {
   "cell_type": "code",
   "execution_count": null,
   "id": "907e411f",
   "metadata": {},
   "outputs": [],
   "source": [
    "#Write a for-loop that translates each sequence and also gets molecular weight and computes the GC content\n",
    "#of each translated sequence and adds those data to DataFrame\n",
    "row = 0 #define row as the first row '0'\n",
    "for key, value in cytb_seqs.items(): \n",
    "    aa_seq = translate_sequences(value) #translate penguin DNA sequence to amino acid sequence\n",
    "    molecular_weight = compute_molecular_weight(aa_seq) #compute MW of amino acid sequence\n",
    "    penguins_df.loc[row, 'molecular_weight'] = molecular_weight #add MW to DataFrame\n",
    "    GC_content = compute_GC_content(value) #compute %GC of DNA sequence \n",
    "    penguins_df.loc[row, 'GC_content'] = GC_content #add GC content to DataFrame\n",
    "    row = row + 1 #define row for looping through rows in DataFrame\n",
    "print(penguins_df)"
   ]
  },
  {
   "cell_type": "code",
   "execution_count": null,
   "id": "ee792584",
   "metadata": {},
   "outputs": [],
   "source": [
    "#Plot a bar-chart of the mass with the x-axes labeled with species names\n",
    "penguins_df.plot(kind = 'bar', x = 'species', y = 'mass', ylabel = 'mass', color = '#0066cc', \n",
    "                 title = 'Mass of Penguin Species')"
   ]
  },
  {
   "cell_type": "code",
   "execution_count": null,
   "id": "51aae46a",
   "metadata": {},
   "outputs": [],
   "source": [
    "#Using Vega visualization to highligh the smallest penguin species \n",
    "alt.Chart(penguins_df, title = \"Mass of Penguin Species\").mark_bar().encode(\n",
    "    x='species:O',\n",
    "    y=\"mass:Q\",\n",
    "    #highlight smallest penguin species\n",
    "    color=alt.condition(\n",
    "        alt.datum.species == 'Eudyptula minor',  #If the species is \"Eudyptula minor\" this test returns True,\n",
    "        alt.value('#FF6600'),     #highlight a bar with orange (#FF6600)\n",
    "        alt.value('#0066cc')   #And blue (#0066cc) for the rest of the bars\n",
    "     )\n",
    ").properties(width=600).configure_axis(\n",
    "    labelFontSize=16,\n",
    "    titleFontSize=16\n",
    ").configure_title(fontSize=16)"
   ]
  },
  {
   "cell_type": "markdown",
   "id": "4f4afec3",
   "metadata": {},
   "source": [
    "###**Q1. What is the smallest penguin species?**\n",
    "###*Eudyptula minor*\n",
    "\n",
    "###**Q2. What is the geographical range of this species?**\n",
    "###Found in the coastal waters of southern mainland Australia and Tasmania (https://australian.museum/learn/animals/birds/little-penguin-eudyptula-minor/)"
   ]
  },
  {
   "cell_type": "code",
   "execution_count": null,
   "id": "439d90ec",
   "metadata": {},
   "outputs": [],
   "source": [
    "#Plot a visualization of the molecular weight (y-axis) as a function of GC-content (x-axis)\n",
    "sns.scatterplot(x = \"GC_content\", y = \"molecular_weight\", data = penguins_df, s = 100, hue = \"species\")\n",
    "plt.xlabel(\"GC content\")\n",
    "plt.ylabel(\"Molecular Weight\")\n",
    "plt.title(\"GC-content vs. Molecular Weight in Penguin Species\")\n",
    "plt.legend(bbox_to_anchor=(1.01, 1),\n",
    "           borderaxespad=0)"
   ]
  },
  {
   "cell_type": "code",
   "execution_count": null,
   "id": "eb9b4ed7",
   "metadata": {},
   "outputs": [],
   "source": [
    "#Save the new DataFrame to a file called \"penguins_mass_cytb.csv\"\n",
    "penguins_df.to_csv(\"penguins_mass_cytb.csv\")"
   ]
  },
  {
   "cell_type": "markdown",
   "id": "baf7a284",
   "metadata": {},
   "source": [
    "###**BONUS:What else can we do with this dataset in python?**\n",
    "####Objective 1: Align multiple sequences within a FASTA file\n",
    "####Reference: https://biopython.org/docs/1.76/api/Bio.Align.Applications.html\n",
    "\n",
    "####Objective 2: Visualize sequence alignments using dash_bio\n",
    "####Reference: https://dash.plotly.com/dash-bio/alignmentchart"
   ]
  },
  {
   "cell_type": "code",
   "execution_count": null,
   "id": "5bdaf854",
   "metadata": {},
   "outputs": [],
   "source": [
    "from Bio.Align.Applications import MuscleCommandline"
   ]
  },
  {
   "cell_type": "code",
   "execution_count": null,
   "id": "0ee5a87e",
   "metadata": {},
   "outputs": [],
   "source": [
    "def align_seqs(fasta_fn): #define new function for sequence alignment\n",
    "    seqs = SeqIO.parse(fasta_fn, 'fasta') #identify sequences in FASTA file \n",
    "    SeqIO.write(seqs, \"align_seqs.fasta\", \"fasta\") #write FASTA file with aligned sequences\n",
    "    muscle_cmdline = MuscleCommandline(input = seqs, diags = True, maxiters = 1, \n",
    "                                       out = \"align_seqs.fasta\")\n",
    "    #use multiple alignment program MUSCLE to align sequences and output FASTA file\n",
    "    return('Alignment Complete!') #output message"
   ]
  },
  {
   "cell_type": "code",
   "execution_count": null,
   "id": "fcf4f353",
   "metadata": {
    "scrolled": true
   },
   "outputs": [],
   "source": [
    "fasta_fn = \"penguins_cytb.fasta\"\n",
    "align_seqs(fasta_fn)"
   ]
  },
  {
   "cell_type": "code",
   "execution_count": null,
   "id": "13a1629e",
   "metadata": {},
   "outputs": [],
   "source": [
    "import urllib.request as urlreq\n",
    "from dash import Dash, html\n",
    "import dash_bio as dashbio\n",
    "\n",
    "app = Dash(__name__)\n",
    "\n",
    "#import aligned FASTA file from github\n",
    "data = urlreq.urlopen('https://raw.githubusercontent.com/Jperea02/BCB546-PythonHW_Spring2023/main/align_seqs.fasta').read().decode('utf-8')\n",
    "\n",
    "#run alignment chart and alignment viewer in html\n",
    "app.layout = html.Div([\n",
    "    dashbio.AlignmentChart(\n",
    "        id='alignment-viewer',\n",
    "        data=data\n",
    "    ),\n",
    "     html.Div(id='default-alignment-viewer-output')])\n",
    "\n",
    "#run dash, defaul port is '8050'\n",
    "if __name__ == '__main__':\n",
    "    app.run_server(debug=True, use_reloader=False)\n",
    "#When code is running, it will provide a link to alignment viewer(\"Dash is running on http://127.0.0.1:8050/\")\n",
    "#I have not figured out a way to stop Dash from running other than completely exiting from Jupyter in terminal"
   ]
  }
 ],
 "metadata": {
  "kernelspec": {
   "display_name": "Python 3 (ipykernel)",
   "language": "python",
   "name": "python3"
  },
  "language_info": {
   "codemirror_mode": {
    "name": "ipython",
    "version": 3
   },
   "file_extension": ".py",
   "mimetype": "text/x-python",
   "name": "python",
   "nbconvert_exporter": "python",
   "pygments_lexer": "ipython3",
   "version": "3.10.9"
  }
 },
 "nbformat": 4,
 "nbformat_minor": 5
}
